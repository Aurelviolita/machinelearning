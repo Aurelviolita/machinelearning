{
 "cells": [
  {
   "cell_type": "markdown",
   "metadata": {},
   "source": [
    "Sempurnakan Data Set Universitas Esa Unggul memiliki detail mahasiswa sebagai berikut :\n",
    "Ani, Budi, Joni, Jono dan Lono Setiap mahasiswa dating ke kampus mulai dari hari senin sampai\n",
    "minggu Untuk melakukan kegiatan kuliah Ani menghabiskan biaya 30000 dikampus setiap datang\n",
    "Budi menghabiskan biaya 35000 dikampus setiap datang Joni menghabiskan biaya 20000\n",
    "dikampus setiap datang Jono 25000 dan Lono 15000\n"
   ]
  },
  {
   "cell_type": "code",
   "execution_count": 81,
   "metadata": {},
   "outputs": [],
   "source": [
    "import numpy as np\n",
    "import pandas as pd"
   ]
  },
  {
   "cell_type": "markdown",
   "metadata": {},
   "source": [
    "IMPORT DATASET"
   ]
  },
  {
   "cell_type": "code",
   "execution_count": 82,
   "metadata": {},
   "outputs": [],
   "source": [
    "dataset = pd.read_csv('Dataset.csv')\n"
   ]
  },
  {
   "cell_type": "markdown",
   "metadata": {},
   "source": [
    "PRINT DATASET"
   ]
  },
  {
   "cell_type": "code",
   "execution_count": 83,
   "metadata": {},
   "outputs": [
    {
     "name": "stdout",
     "output_type": "stream",
     "text": [
      "    |------------------------------------------|\n",
      "0   | | HARI  | DATANG |  BIAYA  | MAHASISWA | |\n",
      "1   |------------------------------------------|\n",
      "2   | |Senin  |    2   |   60000 |  Ani      | |\n",
      "3   |------------------------------------------|\n",
      "4   | |Selasa |    3   |   70000 |  Budi     | |\n",
      "5   |------------------------------------------|\n",
      "6   | |Rabu   |    4   |  100000 |  Jono     | |\n",
      "7   |------------------------------------------|\n",
      "8   | |Kamis  |    1   |   15000 |  Lono     | |\n",
      "9   |------------------------------------------|\n",
      "10  | |Jumat  |    2   |   40000 |  Joni     | |\n",
      "11  |------------------------------------------|\n",
      "12  | |Sabtu  |    5   |  150000 |  Ani      | |\n",
      "13  |------------------------------------------|\n",
      "14  | |Minggu |    2   |   70000 |  Budi     | |\n",
      "15  |------------------------------------------|\n"
     ]
    }
   ],
   "source": [
    "print(dataset.head(16))\n"
   ]
  },
  {
   "cell_type": "code",
   "execution_count": 84,
   "metadata": {},
   "outputs": [],
   "source": [
    "# Buat DataFrame dari data yang diberikan\n",
    "data = {\n",
    "    'Hari': ['Senin', 'Selasa', 'Rabu', 'Kamis', 'Jumat', 'Sabtu', 'Minggu'],\n",
    "    'Datang': [2, 3, 4, 1, 2, 5, 2],\n",
    "    'Biaya': ['60000', '70000', '100000', '15000', '40000', '150000', '70000'],\n",
    "    'Mahasiswa': ['Ani', 'Budi', 'Jono', 'Lono', 'Joni', 'Ani', 'Budi']\n",
    "}\n",
    "\n",
    "df = pd.DataFrame(data)"
   ]
  },
  {
   "cell_type": "markdown",
   "metadata": {},
   "source": [
    "A. Berapa rata-rata mahasiswa datang pada minggu ini?"
   ]
  },
  {
   "cell_type": "code",
   "execution_count": 85,
   "metadata": {},
   "outputs": [
    {
     "name": "stdout",
     "output_type": "stream",
     "text": [
      "Rata-rata mahasiswa yang datang pada minggu ini adalah: 2.7142857142857144\n"
     ]
    }
   ],
   "source": [
    "rata_rata_datang = df['Datang'].mean()\n",
    "print(f\"Rata-rata mahasiswa yang datang pada minggu ini adalah: {rata_rata_datang}\")"
   ]
  },
  {
   "cell_type": "markdown",
   "metadata": {},
   "source": [
    "B. Kapan biaya tertinggi terjadi? "
   ]
  },
  {
   "cell_type": "code",
   "execution_count": 86,
   "metadata": {},
   "outputs": [
    {
     "name": "stdout",
     "output_type": "stream",
     "text": [
      "Biaya tertinggi terjadi pada hari: Sabtu\n"
     ]
    }
   ],
   "source": [
    "df['Biaya'] = df['Biaya'].astype(int)\n",
    "biaya_tertinggi = df['Biaya'].max()\n",
    "hari_biaya_tertinggi = df.loc[df['Biaya'] == biaya_tertinggi, 'Hari'].values[0]\n",
    "print(f\"Biaya tertinggi terjadi pada hari: {hari_biaya_tertinggi}\")"
   ]
  },
  {
   "cell_type": "markdown",
   "metadata": {},
   "source": [
    "C. Hari apa biaya lebih dari 110000?\n"
   ]
  },
  {
   "cell_type": "code",
   "execution_count": 87,
   "metadata": {},
   "outputs": [
    {
     "name": "stdout",
     "output_type": "stream",
     "text": [
      "Hari di mana biaya lebih dari 110000 adalah: ['Sabtu']\n"
     ]
    }
   ],
   "source": [
    "hari_biaya_lebih_dari_110000 = df.loc[df['Biaya'] > 110000, 'Hari'].values\n",
    "print(f\"Hari di mana biaya lebih dari 110000 adalah: {hari_biaya_lebih_dari_110000}\")"
   ]
  },
  {
   "cell_type": "markdown",
   "metadata": {},
   "source": [
    "D. Siapa yang paling banyak datang ke kampus?"
   ]
  },
  {
   "cell_type": "code",
   "execution_count": 88,
   "metadata": {},
   "outputs": [
    {
     "name": "stdout",
     "output_type": "stream",
     "text": [
      "Mahasiswa yang paling banyak datang ke kampus adalah: Ani\n"
     ]
    }
   ],
   "source": [
    "mahasiswa_terbanyak = df['Mahasiswa'].value_counts().idxmax()\n",
    "print(f\"Mahasiswa yang paling banyak datang ke kampus adalah: {mahasiswa_terbanyak}\")"
   ]
  },
  {
   "cell_type": "markdown",
   "metadata": {},
   "source": [
    "E. Siapa yang datang pada hari minggu?"
   ]
  },
  {
   "cell_type": "code",
   "execution_count": 89,
   "metadata": {},
   "outputs": [
    {
     "name": "stdout",
     "output_type": "stream",
     "text": [
      "Mahasiswa yang datang pada hari Minggu adalah: Budi\n"
     ]
    }
   ],
   "source": [
    "mahasiswa_hari_minggu = df.loc[df['Hari'] == 'Minggu', 'Mahasiswa'].values[0]\n",
    "print(f\"Mahasiswa yang datang pada hari Minggu adalah: {mahasiswa_hari_minggu}\")"
   ]
  },
  {
   "cell_type": "markdown",
   "metadata": {},
   "source": [
    "F. Berapa biaya tertinggi dan terendah?"
   ]
  },
  {
   "cell_type": "code",
   "execution_count": 90,
   "metadata": {},
   "outputs": [
    {
     "name": "stdout",
     "output_type": "stream",
     "text": [
      "Biaya tertinggi adalah: 150000\n",
      "Biaya terendah adalah: 15000\n"
     ]
    }
   ],
   "source": [
    "biaya_tertinggi = df['Biaya'].max()\n",
    "biaya_terendah = df['Biaya'].min()\n",
    "print(f\"Biaya tertinggi adalah: {biaya_tertinggi}\")\n",
    "print(f\"Biaya terendah adalah: {biaya_terendah}\")"
   ]
  },
  {
   "cell_type": "markdown",
   "metadata": {},
   "source": [
    "G. Berapa frekuensi datang tertinggi dan terendah?"
   ]
  },
  {
   "cell_type": "code",
   "execution_count": 91,
   "metadata": {},
   "outputs": [
    {
     "name": "stdout",
     "output_type": "stream",
     "text": [
      "Frekuensi datang tertinggi adalah: 5\n",
      "Frekuensi datang terendah adalah: 1\n"
     ]
    }
   ],
   "source": [
    "frekuensi_datang_tertinggi = df['Datang'].max()\n",
    "frekuensi_datang_terendah = df['Datang'].min()\n",
    "print(f\"Frekuensi datang tertinggi adalah: {frekuensi_datang_tertinggi}\")\n",
    "print(f\"Frekuensi datang terendah adalah: {frekuensi_datang_terendah}\")"
   ]
  },
  {
   "cell_type": "markdown",
   "metadata": {},
   "source": [
    "Lengkapi source code dibawah berikut\n",
    "fakultas <- c(\"Bisnis\", \"D3 Perhotelan\", \"ICT\", \"Ilmu Komunikasi\", \"Seni dan Desain\") jumlah_mahasiswa <- c(260, 28, 284, 465, 735)\n",
    "akreditasi <- c(\"A\",\"A\",\"B\",\"A\",\"A\")\n",
    "info_mahasiswa <- data.frame(fakultas, jumlah_mahasiswa, akreditasi) info_mahasiswa\n",
    "gambar <- ggplot(info_mahasiswa, aes(x=fakultas, y=jumlah_mahasiswa, fill=fakultas)) gambar <- gambar + geom_bar(width=1, stat=\"identity\")\n",
    "gambar"
   ]
  },
  {
   "cell_type": "code",
   "execution_count": 93,
   "metadata": {},
   "outputs": [],
   "source": [
    "import seaborn as sns\n",
    "import matplotlib.pyplot as plt\n",
    "import pandas as pd"
   ]
  },
  {
   "cell_type": "code",
   "execution_count": 94,
   "metadata": {},
   "outputs": [
    {
     "data": {
      "image/png": "[encoded data removed]",
      "text/plain": [
       "<Figure size 1000x600 with 1 Axes>"
      ]
     },
     "metadata": {},
     "output_type": "display_data"
    }
   ],
   "source": [
    "fakultas = [\"Bisnis\", \"D3 Perhotelan\", \"ICT\", \"Ilmu Komunikasi\", \"Seni dan Desain\"]\n",
    "jumlah_mahasiswa = [260, 28, 284, 465, 735]\n",
    "akreditasi = [\"A\", \"A\", \"B\", \"A\", \"A\"]\n",
    "info_mahasiswa = pd.DataFrame({\"fakultas\": fakultas, \"jumlah_mahasiswa\": jumlah_mahasiswa, \"akreditasi\": akreditasi})\n",
    "\n",
    "plt.figure(figsize=(10, 6))\n",
    "ax = sns.barplot(x=\"fakultas\", y=\"jumlah_mahasiswa\", hue=\"fakultas\", data=info_mahasiswa, palette=\"viridis\", legend=False)\n",
    "\n",
    "plt.xlabel(\"Nama Fakultas\")\n",
    "plt.ylabel(\"Jumlah Mahasiswa\")\n",
    "plt.title(\"Jumlah Mahasiswa per Fakultas\")\n",
    "\n",
    "colors = sns.color_palette(\"viridis\", n_colors=len(fakultas))\n",
    "legend_labels = [plt.Line2D([0], [0], marker='o', color='w', markerfacecolor=color, markersize=10, label=fakultas[i]) for i, color in enumerate(colors)]\n",
    "ax.legend(handles=legend_labels, title=\"Fakultas\", title_fontsize='15', bbox_to_anchor=(1, 0.5), loc='center left')\n",
    "\n",
    "plt.xticks(rotation=45)\n",
    "plt.show()"
   ]
  }
 ],
 "metadata": {
  "kernelspec": {
   "display_name": "Python 3",
   "language": "python",
   "name": "python3"
  },
  "language_info": {
   "codemirror_mode": {
    "name": "ipython",
    "version": 3
   },
   "file_extension": ".py",
   "mimetype": "text/x-python",
   "name": "python",
   "nbconvert_exporter": "python",
   "pygments_lexer": "ipython3",
   "version": "3.10.12"
  }
 },
 "nbformat": 4,
 "nbformat_minor": 2
}
