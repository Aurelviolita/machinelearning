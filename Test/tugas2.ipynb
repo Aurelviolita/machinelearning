{
 "cells": [
  {
   "cell_type": "code",
   "execution_count": null,
   "metadata": {
    "vscode": {
     "languageId": "plaintext"
    }
   },
   "outputs": [],
   "source": [
    "import matplotlib.pyplot as plt\n",
    "\n",
    "flavors = ('Chocolate', 'Vanilla', 'Pistachio', 'Mango', 'Strawberry')\n",
    "votes = (12, 11, 4, 8, 7)\n",
    "\n",
    "plt.pie(\n",
    "    votes,\n",
    "    labels=flavors,\n",
    ")\n",
    "plt.show()"
   ]
  }
 ],
 "metadata": {
  "language_info": {
   "name": "python"
  }
 },
 "nbformat": 4,
 "nbformat_minor": 2
}
