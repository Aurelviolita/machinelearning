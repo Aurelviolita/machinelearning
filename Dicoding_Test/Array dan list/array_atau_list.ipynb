{
 "cells": [
  {
   "cell_type": "markdown",
   "metadata": {},
   "source": [
    "TODO:\n",
    "Sebuah variabel array diberikan dengan ketentuan berikut.\n",
    "- Variabel array bernama \"var_array\" dengan nilai dari 0 hingga 100.\n",
    "- Hitung nilai rata-rata dari elemen array tersebut.\n",
    "- Simpan hasil perhitungan dalam variabel bernama \"result\".\n",
    "\n",
    "Tips:\n",
    "- Rumus menghitung rata-rata adalah jumlah seluruh elemen dibagi banyaknya elemen.\n",
    "- Gunakan percabangan dan perulangan untuk mempermudah, \n",
    "  Anda tidak diperbolehkan memberikan nilai secara langsung."
   ]
  },
  {
   "cell_type": "code",
   "execution_count": 1,
   "metadata": {},
   "outputs": [
    {
     "name": "stdout",
     "output_type": "stream",
     "text": [
      "nilai rata-rata dari elemen array adalah:  50.0\n"
     ]
    }
   ],
   "source": [
    "# Jangan ubah kode ini\n",
    "var_array = [i for i in range(101)]\n",
    "\n",
    "# TODO: Silakan buat kode Anda di bawah ini.\n",
    "# Kode awal untuk membuat array var_array dengan nilai dari 0 hingga 100 menggunakan list comprehension\n",
    "var_array = [i for i in range(101)]\n",
    "\n",
    "# Inisialisasi variabel untuk menjumlahkan elemen array\n",
    "total = 0\n",
    "\n",
    "# Perulangan untuk menjumlahkan semua elemen array\n",
    "for num in var_array:\n",
    "    total += num\n",
    "\n",
    "# Hitung nilai rata-rata dari elemen-elemen dalam array var_array\n",
    "result = total / len(var_array)\n",
    "\n",
    "print(\"nilai rata-rata dari elemen array adalah: \", result)"
   ]
  }
 ],
 "metadata": {
  "kernelspec": {
   "display_name": "Python 3",
   "language": "python",
   "name": "python3"
  },
  "language_info": {
   "codemirror_mode": {
    "name": "ipython",
    "version": 3
   },
   "file_extension": ".py",
   "mimetype": "text/x-python",
   "name": "python",
   "nbconvert_exporter": "python",
   "pygments_lexer": "ipython3",
   "version": "3.10.12"
  }
 },
 "nbformat": 4,
 "nbformat_minor": 2
}
