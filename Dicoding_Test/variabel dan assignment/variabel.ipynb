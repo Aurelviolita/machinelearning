{
 "cells": [
  {
   "cell_type": "markdown",
   "metadata": {},
   "source": [
    "TODO:\n",
    "- Buatlah sebuah variabel bernama greeting.\n",
    "- Assign teks \"Saya mulai belajar Python!\" pada variabel tersebut. \n"
   ]
  },
  {
   "cell_type": "code",
   "execution_count": 1,
   "metadata": {},
   "outputs": [
    {
     "name": "stdout",
     "output_type": "stream",
     "text": [
      "Saya mulai belajar Python!\n"
     ]
    }
   ],
   "source": [
    "# TODO: Silakan buat kode Anda di bawah ini.\n",
    "\n",
    "greeting=\"Saya mulai belajar Python!\"\n",
    "print(greeting)\n"
   ]
  }
 ],
 "metadata": {
  "kernelspec": {
   "display_name": "Python 3",
   "language": "python",
   "name": "python3"
  },
  "language_info": {
   "codemirror_mode": {
    "name": "ipython",
    "version": 3
   },
   "file_extension": ".py",
   "mimetype": "text/x-python",
   "name": "python",
   "nbconvert_exporter": "python",
   "pygments_lexer": "ipython3",
   "version": "3.10.12"
  }
 },
 "nbformat": 4,
 "nbformat_minor": 2
}
