{
 "cells": [
  {
   "cell_type": "markdown",
   "metadata": {},
   "source": [
    "TODO:\n",
    "Anda diharuskan membuat program diskon untuk sebuah toko belanja dengan ketentuan berikut.\n",
    "- Jika pelanggan berbelanja lebih dari 500.000 ribu, mereka akan mendapat potongan harga 10%.\n",
    "- Seorang pelanggan bernama Dico telah berbelanja senilai 750.000 ribu.\n",
    "- Buat operasi aritmetika untuk menghitung total harga belanja Dico setelah mendapatkan diskon, \n",
    "  dan simpan dalam variabel bernama \"total_harga\".\n",
    "\n",
    "Tips:\n",
    "- Ingat yang dicari adalah total harga belanja setelah diskon, bukan besaran potongan harga."
   ]
  },
  {
   "cell_type": "code",
   "execution_count": 1,
   "metadata": {},
   "outputs": [
    {
     "name": "stdout",
     "output_type": "stream",
     "text": [
      "675000.0\n"
     ]
    }
   ],
   "source": [
    "# Jangan ubah kode ini\n",
    "dico = 750000\n",
    "\n",
    "# TODO: Silakan buat kode Anda di bawah ini.\n",
    "dico = 750000\n",
    "potongan_harga = dico * 0.1\n",
    "\n",
    "\n",
    "total_harga = dico - potongan_harga\n",
    "print (total_harga)\n"
   ]
  }
 ],
 "metadata": {
  "kernelspec": {
   "display_name": "Python 3",
   "language": "python",
   "name": "python3"
  },
  "language_info": {
   "codemirror_mode": {
    "name": "ipython",
    "version": 3
   },
   "file_extension": ".py",
   "mimetype": "text/x-python",
   "name": "python",
   "nbconvert_exporter": "python",
   "pygments_lexer": "ipython3",
   "version": "3.10.12"
  }
 },
 "nbformat": 4,
 "nbformat_minor": 2
}
