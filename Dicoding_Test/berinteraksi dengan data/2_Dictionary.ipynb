{
 "cells": [
  {
   "cell_type": "markdown",
   "metadata": {},
   "source": [
    "TODO:\n",
    "Buatlah variabel dictionary dengan nama \"data_diri\",\n",
    "variabel tersebut berisi identitas diri Anda berdasarkan ketentuan berikut.\n",
    "- Memiliki key bernama \"firstName\":\n",
    "    - Isi value dengan nama depan Anda, pastikan bertipe data string.\n",
    "- Memiliki key bernama \"lastName\":\n",
    "    - Isi value dengan nama terakhir Anda, pastikan bertipe data string.\n",
    "- Memiliki key bernama \"age\":\n",
    "    - Isi value dengan umur Anda, pastikan bertipe data integer.\n",
    "- Memiliki key bernama \"isMarried\":\n",
    "    - Isi value dengan status pernikahan Anda, pastikan bertipe data boolean.\n",
    "\n",
    "Catatan:\n",
    "- Value pada dictionary harus berupa nilai sesungguhnya (literal) seperti string, \n",
    "  bilangan bulat (integer), dan boolean (benar atau salah).\n"
   ]
  },
  {
   "cell_type": "code",
   "execution_count": 1,
   "metadata": {},
   "outputs": [
    {
     "name": "stdout",
     "output_type": "stream",
     "text": [
      "<class 'dict'>\n"
     ]
    }
   ],
   "source": [
    "# TODO: Silakan buat kode Anda di bawah ini.\n",
    "data_diri = { 'firstName' : 'Aurel Elviolita', 'lastName' : 'Putri', 'age' : 21, 'isMarried' : False }\n",
    "print(type(data_diri))"
   ]
  }
 ],
 "metadata": {
  "kernelspec": {
   "display_name": "Python 3",
   "language": "python",
   "name": "python3"
  },
  "language_info": {
   "codemirror_mode": {
    "name": "ipython",
    "version": 3
   },
   "file_extension": ".py",
   "mimetype": "text/x-python",
   "name": "python",
   "nbconvert_exporter": "python",
   "pygments_lexer": "ipython3",
   "version": "3.10.12"
  }
 },
 "nbformat": 4,
 "nbformat_minor": 2
}
