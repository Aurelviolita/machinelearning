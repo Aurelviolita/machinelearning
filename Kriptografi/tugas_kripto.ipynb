{
 "cells": [
  {
   "cell_type": "code",
   "execution_count": 3,
   "metadata": {},
   "outputs": [],
   "source": [
    "# Enkripsi berkas teks dengan algoritma XOR sederhana.\n",
    "# Berkas plainteks: plain.txt\n",
    "# Berkas cipherteks: cipher.txt\n",
    "\n",
    "K = input(\"Kata kunci: \")\n",
    "n = len(K)  # panjang kunci\n",
    "i = 0\n",
    "\n",
    "with open(\"plain.txt\", \"r\") as Fin, open(\"cipher.txt\", \"w\") as Fout:\n",
    "    for P in Fin.read():\n",
    "        if P != '':\n",
    "            C = ord(P) ^ ord(K[i])  # operasi XOR\n",
    "            Fout.write(chr(C))\n",
    "            i += 1\n",
    "            if i > n - 1:\n",
    "                i = 0\n",
    "            "
   ]
  }
 ],
 "metadata": {
  "kernelspec": {
   "display_name": "Python 3",
   "language": "python",
   "name": "python3"
  },
  "language_info": {
   "codemirror_mode": {
    "name": "ipython",
    "version": 3
   },
   "file_extension": ".py",
   "mimetype": "text/x-python",
   "name": "python",
   "nbconvert_exporter": "python",
   "pygments_lexer": "ipython3",
   "version": "3.10.12"
  }
 },
 "nbformat": 4,
 "nbformat_minor": 2
}
