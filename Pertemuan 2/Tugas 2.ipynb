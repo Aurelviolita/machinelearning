{
 "cells": [
  {
   "cell_type": "code",
   "execution_count": 2,
   "metadata": {},
   "outputs": [
    {
     "name": "stdout",
     "output_type": "stream",
     "text": [
      "DATA DIRI\n",
      "Nama:  Aurel Elviolita Putri\n",
      "NIM:  20210801510\n",
      "Prodi:  Teknik Informatika\n"
     ]
    }
   ],
   "source": [
    "#Buatlah identitas diri menggunakan pemograman python sederhana\n",
    "\n",
    "nama = \"Aurel Elviolita Putri\"\n",
    "nim = \"20210801510\"\n",
    "prodi = \"Teknik Informatika\"\n",
    "\n",
    "print(\"DATA DIRI\")\n",
    "print(\"Nama: \", nama)\n",
    "print(\"NIM: \", nim)\n",
    "print(\"Prodi: \", prodi)"
   ]
  },
  {
   "cell_type": "code",
   "execution_count": 3,
   "metadata": {},
   "outputs": [
    {
     "name": "stdout",
     "output_type": "stream",
     "text": [
      "[[1, 2, 3], [4, 5, 6]]\n"
     ]
    }
   ],
   "source": [
    "\"\"\"\"\n",
    "Buatlah matriksC dengan orde 2x3, dan nilai yang diberikan pada matriksC adalah sebagai berikut:\n",
    "\n",
    "Baris 1 Kolom 1, nilai = 1\n",
    "Baris 1 Kolom 2, nilai = 2\n",
    "Baris 1 Kolom 3, nilai = 3\n",
    "Baris 2 Kolom 1, nilai = 4\n",
    "Baris 2 Kolom 2, nilai = 5\n",
    "Baris 2 Kolom 3, nilai = 6\n",
    "\n",
    "\"\"\"\n",
    "\n",
    "matriksC= [[1,2,3],[4,5,6]]\n",
    "print(matriksC)"
   ]
  },
  {
   "cell_type": "code",
   "execution_count": 4,
   "metadata": {},
   "outputs": [
    {
     "name": "stdout",
     "output_type": "stream",
     "text": [
      "[[2, 2], [2, 2], [2, 2]]\n"
     ]
    }
   ],
   "source": [
    "\"\"\"\n",
    "Buatlah matriks dengan orde 3x2, dengan nilai adalah:\n",
    "\n",
    "Baris 1 Kolom 1, nilai = 2\n",
    "Baris 1 Kolom 2, nilai = 2\n",
    "Baris 2 Kolom 1, nilai = 2\n",
    "Baris 2 Kolom 2, nilai = 2\n",
    "Baris 3 Kolom 1, nilai = 2\n",
    "Baris 3 Kolom 2, nilai = 2\n",
    "\n",
    "\"\"\"\n",
    "\n",
    "matriks =[[2,2],[2,2],[2,2]]\n",
    "print(matriks)"
   ]
  },
  {
   "cell_type": "code",
   "execution_count": null,
   "metadata": {},
   "outputs": [],
   "source": [
    "#Importlah library Numpy\n",
    "\n",
    "import numpy as np"
   ]
  },
  {
   "cell_type": "code",
   "execution_count": 5,
   "metadata": {},
   "outputs": [
    {
     "name": "stdout",
     "output_type": "stream",
     "text": [
      "[[ 0  1  2  3  4  5  6  7]\n",
      " [ 8  9 10 11 12 13 14 15]\n",
      " [16 17 18 19 20 21 22 23]\n",
      " [24 25 26 27 28 29 30 31]]\n"
     ]
    }
   ],
   "source": [
    "\"\"\"\n",
    "Dengan memanfaatkan library numpy Buatlah matriks dengan menggunakan Library Numpy dengan panjang elemen adalah 32 \n",
    "dan matriks memiliki orde 4x8\n",
    "\n",
    "\"\"\"\n",
    "\n",
    "from numpy import *\n",
    "matriks = range(32)\n",
    "matriks = reshape(matriks, (4,8))\n",
    "print(matriks)"
   ]
  },
  {
   "cell_type": "code",
   "execution_count": 20,
   "metadata": {},
   "outputs": [
    {
     "name": "stdout",
     "output_type": "stream",
     "text": [
      "[[2 2 2 4 4 1 4 3 1 1 2 1 1 4 3 1 3 1 3 4 3 2 1 3 3 2 3 4 4 1]\n",
      " [3 3 3 4 1 3 1 4 3 2 1 4 2 2 1 2 2 2 1 2 1 1 2 4 1 1 1 1 3 4]\n",
      " [3 1 2 4 3 4 4 3 2 4 4 1 1 3 4 2 4 4 1 3 2 2 3 2 1 4 4 3 4 1]]\n"
     ]
    }
   ],
   "source": [
    "\"\"\"\n",
    "Buatlah matriks dengan menggunakan Library Numpy dengan orde 3x30, \n",
    "dan nilai elemen dimulai dari indeks 1 sampai dengan 5 secara random.\n",
    "\n",
    "\"\"\"\n",
    "\n",
    "import numpy as np\n",
    "from numpy import *\n",
    "\n",
    "matriks = np.random.randint(1,5,(3,30))\n",
    "print(matriks)"
   ]
  }
 ],
 "metadata": {
  "kernelspec": {
   "display_name": "Python 3",
   "language": "python",
   "name": "python3"
  },
  "language_info": {
   "codemirror_mode": {
    "name": "ipython",
    "version": 3
   },
   "file_extension": ".py",
   "mimetype": "text/x-python",
   "name": "python",
   "nbconvert_exporter": "python",
   "pygments_lexer": "ipython3",
   "version": "3.10.12"
  }
 },
 "nbformat": 4,
 "nbformat_minor": 2
}
